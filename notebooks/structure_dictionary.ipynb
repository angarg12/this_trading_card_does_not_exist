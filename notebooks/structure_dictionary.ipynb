{
 "cells": [
  {
   "cell_type": "code",
   "execution_count": 2,
   "metadata": {},
   "outputs": [],
   "source": [
    "%load_ext autoreload\n",
    "%autoreload 2\n",
    "import sys\n",
    "sys.path.append(\"../\")\n",
    "sys.path.append(\"../title_maker_pro\")\n",
    "import dictionary_definition\n",
    "import random\n",
    "import pickle"
   ]
  },
  {
   "cell_type": "code",
   "execution_count": null,
   "metadata": {},
   "outputs": [],
   "source": [
    "dictionary_path = \"../data/Body.data\"\n",
    "parsed = []\n",
    "num_tried = 0\n",
    "error_titles = []\n",
    "\n",
    "with open(dictionary_path, \"rb\") as f:\n",
    "    for entry in dictionary_definition.DictionaryDefinition.gen_from_apple_dictionary(f):\n",
    "        num_tried += 1\n",
    "        parsed.append(dictionary_definition.AppleDictParser.parse(entry.parsed_entry))\n",
    "\n",
    "        try:\n",
    "            parsed.append(dictionary_definition.AppleDictParser.parse(entry.parsed_entry))\n",
    "        except dictionary_definition.InvalidParseAssumptionError: \n",
    "            error_titles.append(entry)\n",
    "        break\n",
    "    \n",
    "print(f\"Error rate: {len(error_titles) / num_tried}\")"
   ]
  },
  {
   "cell_type": "code",
   "execution_count": 16,
   "metadata": {},
   "outputs": [
    {
     "ename": "TypeError",
     "evalue": "__init__() takes 5 positional arguments but 6 were given",
     "output_type": "error",
     "traceback": [
      "\u001b[1;31m---------------------------------------------------------------------------\u001b[0m",
      "\u001b[1;31mTypeError\u001b[0m                                 Traceback (most recent call last)",
      "\u001b[1;32m<ipython-input-16-1abd31965d79>\u001b[0m in \u001b[0;36m<module>\u001b[1;34m\u001b[0m\n\u001b[0;32m      1\u001b[0m \u001b[0mparsed\u001b[0m \u001b[1;33m=\u001b[0m \u001b[1;33m[\u001b[0m\u001b[1;33m]\u001b[0m\u001b[1;33m\u001b[0m\u001b[1;33m\u001b[0m\u001b[0m\n\u001b[0;32m      2\u001b[0m \u001b[1;33m\u001b[0m\u001b[0m\n\u001b[1;32m----> 3\u001b[1;33m \u001b[0mparsed\u001b[0m\u001b[1;33m.\u001b[0m\u001b[0mappend\u001b[0m\u001b[1;33m(\u001b[0m\u001b[0mdictionary_definition\u001b[0m\u001b[1;33m.\u001b[0m\u001b[0mAppleDictParser\u001b[0m\u001b[1;33m.\u001b[0m\u001b[0mparse\u001b[0m\u001b[1;33m(\u001b[0m\u001b[1;33m)\u001b[0m\u001b[1;33m)\u001b[0m\u001b[1;33m\u001b[0m\u001b[1;33m\u001b[0m\u001b[0m\n\u001b[0m\u001b[0;32m      4\u001b[0m \u001b[1;33m\u001b[0m\u001b[0m\n\u001b[0;32m      5\u001b[0m \u001b[0mprint\u001b[0m\u001b[1;33m(\u001b[0m\u001b[0mparsed\u001b[0m\u001b[1;33m)\u001b[0m\u001b[1;33m\u001b[0m\u001b[1;33m\u001b[0m\u001b[0m\n",
      "\u001b[1;32m~\\Documents\\GitHub\\this-word-does-not-exist\\title_maker_pro\\dictionary_definition.py\u001b[0m in \u001b[0;36mparse\u001b[1;34m(cls)\u001b[0m\n\u001b[0;32m     35\u001b[0m     \u001b[1;33m@\u001b[0m\u001b[0mclassmethod\u001b[0m\u001b[1;33m\u001b[0m\u001b[1;33m\u001b[0m\u001b[0m\n\u001b[0;32m     36\u001b[0m     \u001b[1;32mdef\u001b[0m \u001b[0mparse\u001b[0m\u001b[1;33m(\u001b[0m\u001b[0mcls\u001b[0m\u001b[1;33m)\u001b[0m\u001b[1;33m:\u001b[0m\u001b[1;33m\u001b[0m\u001b[1;33m\u001b[0m\u001b[0m\n\u001b[1;32m---> 37\u001b[1;33m         \u001b[1;32mreturn\u001b[0m \u001b[0mEntry\u001b[0m\u001b[1;33m(\u001b[0m\u001b[0mword\u001b[0m\u001b[1;33m=\u001b[0m\u001b[1;34m\"pastry\"\u001b[0m\u001b[1;33m,\u001b[0m \u001b[0msenses\u001b[0m\u001b[1;33m=\u001b[0m\u001b[1;33m[\u001b[0m\u001b[0mSense\u001b[0m\u001b[1;33m(\u001b[0m\u001b[0mpos\u001b[0m\u001b[1;33m=\u001b[0m\u001b[1;32mNone\u001b[0m\u001b[1;33m,\u001b[0m \u001b[0mdefinitions\u001b[0m\u001b[1;33m=\u001b[0m\u001b[1;33m[\u001b[0m\u001b[0mDefinition\u001b[0m\u001b[1;33m(\u001b[0m\u001b[1;32mNone\u001b[0m\u001b[1;33m,\u001b[0m \u001b[1;34m\"good things\"\u001b[0m\u001b[1;33m,\u001b[0m \u001b[1;34m\"i like pastry\"\u001b[0m\u001b[1;33m,\u001b[0m \u001b[1;32mNone\u001b[0m\u001b[1;33m,\u001b[0m \u001b[1;33m[\u001b[0m\u001b[1;33m]\u001b[0m\u001b[1;33m)\u001b[0m\u001b[1;33m]\u001b[0m\u001b[1;33m)\u001b[0m\u001b[1;33m]\u001b[0m\u001b[1;33m,\u001b[0m\u001b[1;33m)\u001b[0m\u001b[1;33m\u001b[0m\u001b[1;33m\u001b[0m\u001b[0m\n\u001b[0m",
      "\u001b[1;31mTypeError\u001b[0m: __init__() takes 5 positional arguments but 6 were given"
     ]
    }
   ],
   "source": [
    "parsed = []\n",
    "\n",
    "parsed.append(dictionary_definition.AppleDictParser.parse())\n",
    "\n",
    "print(parsed)"
   ]
  },
  {
   "cell_type": "code",
   "execution_count": 3,
   "metadata": {},
   "outputs": [],
   "source": [
    "entries = []\n",
    "\n",
    "entries.append(dictionary_definition.Entry(word=\"pastry\", text_body=\"good things\"))\n",
    "entries.append(dictionary_definition.Entry(word=\"dogglowogglo\", text_body=\"dog good dog\"))\n",
    "entries.append(dictionary_definition.Entry(word=\"glassyy\", text_body=\"bottle of fart\"))\n",
    "entries.append(dictionary_definition.Entry(word=\"maddness\", text_body=\"asds 435 dgf\"))"
   ]
  },
  {
   "cell_type": "code",
   "execution_count": 17,
   "metadata": {},
   "outputs": [
    {
     "name": "stdout",
     "output_type": "stream",
     "text": [
      "63502\n"
     ]
    }
   ],
   "source": [
    "import json\n",
    "\n",
    "\n",
    "entries = []\n",
    "\n",
    "with open(\"C:/Users/andres/Downloads/magic.txt\", encoding=\"utf-8\") as f:\n",
    "    items = json.loads(\"\".join(f.readlines()))\n",
    "    print(len(items))\n",
    "    for entry in items:\n",
    "        entries.append(dictionary_definition.Entry(word=entry['name'], text_body=entry['text']))"
   ]
  },
  {
   "cell_type": "code",
   "execution_count": 22,
   "metadata": {},
   "outputs": [
    {
     "name": "stdout",
     "output_type": "stream",
     "text": [
      "10\n"
     ]
    }
   ],
   "source": [
    "\n",
    "\n",
    "random.shuffle(entries)\n",
    "\n",
    "entries = entries[:10]\n",
    "\n",
    "print(len(entries))\n",
    "with open(f\"dict_words.pickle\", \"wb\") as f:\n",
    "    pickle.dump(entries, f, protocol=pickle.HIGHEST_PROTOCOL)"
   ]
  },
  {
   "cell_type": "code",
   "execution_count": null,
   "metadata": {},
   "outputs": [],
   "source": [
    "error_titles = []\n",
    "num_choices = 200000\n",
    "for title, parsed_entry in random.choices(parsies_items, k=num_choices):\n",
    "    try:\n",
    "        dictionary_definition.AppleDictParser.parse(parsed_entry)\n",
    "    except Exception:\n",
    "        error_titles.append(title)\n",
    "        \n",
    "print(f\"Error rate: {len(error_titles) / num_choices}\")"
   ]
  },
  {
   "cell_type": "code",
   "execution_count": null,
   "metadata": {},
   "outputs": [],
   "source": [
    "error_titles"
   ]
  },
  {
   "cell_type": "code",
   "execution_count": null,
   "metadata": {},
   "outputs": [],
   "source": [
    "# view = next(e for e in all_defs if e.title == \"view\")\n",
    "# machinate = next(e for e in all_defs if e.title == \"machinate\")\n",
    "    # parsed_entry = try_word\n",
    "\n",
    "\n",
    "view = parsies[\"view\"]\n",
    "eject = parsies[\"eject\"] \n",
    "al_desko = parsies[\"al desko\"] \n",
    "tomato_fruitworm = parsies[\"tomato fruitworm\"] \n",
    "technocrat = parsies[\"technocrat\"] \n",
    "poor_law = parsies[\"Poor Law\"] \n",
    "oh2 = parsies[\"oh\"]\n",
    "gawky = parsies[\"gawky\"]\n",
    "leo_iii = parsies[\"Leo III\"]\n",
    "pollo = parsies[\"pollo\"]\n",
    "mortimer = parsies[\"Mortimer, Roger de\"]\n",
    "sauria = parsies[\"Sauria\"]\n",
    "hardtail = parsies[\"hardtail\"]\n",
    "saccharine = parsies[\"saccharine\"]\n",
    "warren = parsies[\"Warren\"]\n",
    "rattle = parsies[\"rattle\"]\n",
    "slough_of_despond = parsies[\"Slough of Despond\"]\n",
    "try_word = parsies[\"try\"]\n",
    "eryngo = parsies[\"eryngo\"]\n",
    "fescue = parsies[\"fescue\"]\n",
    "brazen = parsies[\"brazen\"]\n",
    "weekend = parsies[\"weekend\"]\n",
    "thrash = parsies[\"thrash\"]\n",
    "thee = parsies[\"thee\"]\n",
    "talk = parsies[\"talk\"]\n",
    "beef = parsies[\"beef\"]\n",
    "pygmy = parsies[\"pygmy\"]\n",
    "kosher = parsies[\"kosher\"]\n",
    "graphy = parsies[\"-graphy\"]\n",
    "term = parsies[\"term\"]\n",
    "come = parsies[\"come\"]\n",
    "    \n",
    "for i in range(10):\n",
    "    title, parsed_entry = random.choice(parsies_items)\n",
    "    # d = machinate\n",
    "    # d = view\n",
    "    # d = eject\n",
    "    # d = al_desko\n",
    "    # d = tomato_fruitworm\n",
    "    # d = technocrat\n",
    "    # parsed_entry = view\n",
    "    # parsed_entry = poor_law\n",
    "    # parsed_entry = oh2\n",
    "    # parsed_entry = gawky\n",
    "    # parsed_entry = leo_iii\n",
    "    # parsed_entry = pollo\n",
    "    # parsed_entry = mortimer\n",
    "    # parsed_entry = sauria\n",
    "    # parsed_entry = hardtail\n",
    "    # parsed_entry = saccharine\n",
    "    # parsed_entry = warren\n",
    "    # parsed_entry = rattle\n",
    "    # parsed_entry = slough_of_despond\n",
    "    # parsed_entry = try_word\n",
    "    # parsed_entry = beef\n",
    "    # parsed_entry = term\n",
    "    parsed_entry = come\n",
    "    print(parsed_entry.get_text())    \n",
    "    print()\n",
    "    \n",
    "    # print(parsed_entry.prettify())\n",
    "    print(dictionary_definition.AppleDictParser.parse(parsed_entry))\n",
    "    \n",
    "    print()\n",
    "    print(parsed_entry.prettify())\n",
    "    \n",
    "    print()\n",
    "    print()"
   ]
  }
 ],
 "metadata": {
  "kernelspec": {
   "display_name": "Python 3",
   "language": "python",
   "name": "python3"
  },
  "language_info": {
   "codemirror_mode": {
    "name": "ipython",
    "version": 3
   },
   "file_extension": ".py",
   "mimetype": "text/x-python",
   "name": "python",
   "nbconvert_exporter": "python",
   "pygments_lexer": "ipython3",
   "version": "3.7.9"
  }
 },
 "nbformat": 4,
 "nbformat_minor": 4
}
